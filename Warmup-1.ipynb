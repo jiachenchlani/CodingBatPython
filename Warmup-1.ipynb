{
 "cells": [
  {
   "cell_type": "code",
   "execution_count": 1,
   "metadata": {},
   "outputs": [],
   "source": [
    "def sleep_in(weekday, vacation):\n",
    "    if(not weekday or vacation):\n",
    "        return \"Sleep tight.\"\n",
    "    else:\n",
    "        return \"You can't sleep Jia Rani!\""
   ]
  },
  {
   "cell_type": "code",
   "execution_count": 2,
   "metadata": {},
   "outputs": [
    {
     "data": {
      "text/plain": [
       "\"You can't sleep Jia Rani!\""
      ]
     },
     "execution_count": 2,
     "metadata": {},
     "output_type": "execute_result"
    }
   ],
   "source": [
    "sleep_in(True,False)"
   ]
  },
  {
   "cell_type": "code",
   "execution_count": 2,
   "metadata": {},
   "outputs": [
    {
     "name": "stdout",
     "output_type": "stream",
     "text": [
      "1\n",
      "2\n",
      "3\n",
      "4\n",
      "5\n"
     ]
    }
   ],
   "source": [
    "numbers = [1,2,3,4,5]\n",
    "for x in numbers:\n",
    "    print(x)"
   ]
  },
  {
   "cell_type": "code",
   "execution_count": 14,
   "metadata": {},
   "outputs": [],
   "source": [
    "def fizzbuzz(seriesMax):\n",
    "    for x in range(1,seriesMax):\n",
    "        if x%3 == 0:\n",
    "            divisibleby3 = True\n",
    "        else:\n",
    "            divisibleby3 = False\n",
    "        if x%5 == 0:\n",
    "            divisibleby5 = True\n",
    "        else:\n",
    "            divisibleby5 = False\n",
    "        if divisibleby3 and divisibleby5:\n",
    "            print(\"fizzbuzz\")\n",
    "        elif divisibleby3:\n",
    "            print(\"fizz\")\n",
    "        elif divisibleby5:\n",
    "            print(\"buzz\")\n",
    "        else:\n",
    "            print(x)"
   ]
  },
  {
   "cell_type": "code",
   "execution_count": 17,
   "metadata": {},
   "outputs": [
    {
     "name": "stdout",
     "output_type": "stream",
     "text": [
      "1\n",
      "2\n",
      "fizz\n",
      "4\n"
     ]
    }
   ],
   "source": [
    "fizzbuzz(5)"
   ]
  },
  {
   "cell_type": "code",
   "execution_count": 21,
   "metadata": {},
   "outputs": [],
   "source": [
    "def factorial(number):\n",
    "    answer = 1\n",
    "    for x in range(1,number+1):\n",
    "        answer = x * answer\n",
    "    return answer"
   ]
  },
  {
   "cell_type": "code",
   "execution_count": 28,
   "metadata": {},
   "outputs": [
    {
     "name": "stdout",
     "output_type": "stream",
     "text": [
      "Factorial 1 = 1\n",
      "Factorial 2 = 2\n",
      "Factorial 3 = 6\n",
      "Factorial 4 = 24\n",
      "Factorial 5 = 120\n"
     ]
    }
   ],
   "source": [
    "for x in range(1,6):\n",
    "    print(\"Factorial {0} = {1}\".format(x,factorial(x)))"
   ]
  },
  {
   "cell_type": "code",
   "execution_count": 37,
   "metadata": {},
   "outputs": [],
   "source": [
    "def fibbonacci(seriesMax):\n",
    "    a = 0\n",
    "    b = 1\n",
    "    print(a)\n",
    "    print(b)\n",
    "    for x in range(2,seriesMax):\n",
    "        c = b\n",
    "        b = b + a\n",
    "        a = c\n",
    "        print(b)\n",
    "#         print(\"X:{0} B:{1}\".format(x,b))"
   ]
  },
  {
   "cell_type": "code",
   "execution_count": 38,
   "metadata": {},
   "outputs": [
    {
     "name": "stdout",
     "output_type": "stream",
     "text": [
      "0\n",
      "1\n",
      "1\n",
      "2\n",
      "3\n",
      "5\n",
      "8\n",
      "13\n",
      "21\n",
      "34\n"
     ]
    }
   ],
   "source": [
    "fibbonacci(10)"
   ]
  },
  {
   "cell_type": "code",
   "execution_count": null,
   "metadata": {},
   "outputs": [],
   "source": []
  }
 ],
 "metadata": {
  "kernelspec": {
   "display_name": "Python 3",
   "language": "python",
   "name": "python3"
  },
  "language_info": {
   "codemirror_mode": {
    "name": "ipython",
    "version": 3
   },
   "file_extension": ".py",
   "mimetype": "text/x-python",
   "name": "python",
   "nbconvert_exporter": "python",
   "pygments_lexer": "ipython3",
   "version": "3.7.1"
  }
 },
 "nbformat": 4,
 "nbformat_minor": 2
}
